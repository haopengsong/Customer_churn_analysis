{
 "cells": [
  {
   "cell_type": "markdown",
   "metadata": {
    "colab_type": "text",
    "id": "NM0Zex2lPvNS"
   },
   "source": [
    "'''\n",
    " This project utilizes supervised learning models to identify \n",
    " customers who are likely to cancel service in the near future.\n",
    " Also, it extracts and analyzes top factors that contribute to user retention\n",
    "'''\n"
   ]
  },
  {
   "cell_type": "markdown",
   "metadata": {
    "colab_type": "text",
    "id": "uYumzjRePvNU"
   },
   "source": [
    "### Part 1 - Data Exploration "
   ]
  },
  {
   "cell_type": "markdown",
   "metadata": {
    "colab_type": "text",
    "id": "X-1WjJ2ePvNV"
   },
   "source": [
    "#### 1.1 Load & understand the dataset"
   ]
  },
  {
   "cell_type": "code",
   "execution_count": 1,
   "metadata": {
    "colab": {
     "base_uri": "https://localhost:8080/",
     "height": 34
    },
    "colab_type": "code",
    "id": "Ije_kip-QK_T",
    "outputId": "56957c25-5e74-41cc-efc2-6308cd935d54"
   },
   "outputs": [
    {
     "name": "stdout",
     "output_type": "stream",
     "text": [
      "Mounted at /content/drive\n"
     ]
    }
   ],
   "source": [
    "from google.colab import drive\n",
    "drive.mount(\"/content/drive\")"
   ]
  },
  {
   "cell_type": "code",
   "execution_count": null,
   "metadata": {
    "colab": {
     "base_uri": "https://localhost:8080/",
     "height": 649
    },
    "colab_type": "code",
    "id": "F5AK6IrOPvNb",
    "outputId": "e66085a3-98a1-4244-afe1-cfb189b09eff"
   },
   "outputs": [],
   "source": [
    "!pip install seaborn --upgrade\n",
    "!pip install xgboost\n",
    "import pandas as pd\n",
    "import numpy as np\n",
    "import imblearn\n",
    "import warnings\n",
    "warnings.filterwarnings('ignore')\n",
    "\n",
    "# to show all the columns\n",
    "pd.set_option('display.max_columns', None)\n",
    "\n",
    "data = pd.read_csv('/content/drive/My Drive/Colab Notebooks/churn.all')\n",
    "data.head()"
   ]
  },
  {
   "cell_type": "code",
   "execution_count": 3,
   "metadata": {
    "colab": {
     "base_uri": "https://localhost:8080/",
     "height": 34
    },
    "colab_type": "code",
    "id": "vgwnY8ViPvNg",
    "outputId": "6270f14a-bb84-44e9-e15d-5bf1cc63b320"
   },
   "outputs": [
    {
     "name": "stdout",
     "output_type": "stream",
     "text": [
      "number of rows: 5000 and columns: 21\n"
     ]
    }
   ],
   "source": [
    "# shape of the dataset\n",
    "print('number of rows: {} and columns: {}'.format(data.shape[0], data.shape[1]))"
   ]
  },
  {
   "cell_type": "markdown",
   "metadata": {
    "colab_type": "text",
    "id": "Jr1bwFI3PvNl"
   },
   "source": [
    "#### 1.2 Data cleaning"
   ]
  },
  {
   "cell_type": "code",
   "execution_count": 4,
   "metadata": {
    "colab": {
     "base_uri": "https://localhost:8080/",
     "height": 68
    },
    "colab_type": "code",
    "id": "r2U2sXoAPvNm",
    "outputId": "a9cd2110-9b3d-435b-bd29-f6f76fd8699a"
   },
   "outputs": [
    {
     "name": "stdout",
     "output_type": "stream",
     "text": [
      "before: yes\n",
      "before: no\n",
      "before: False.\n"
     ]
    }
   ],
   "source": [
    "# remove unnecessary whitespaces among features that we are about to use\n",
    "print('before:' + str(data['voice_mail_plan'][0]))\n",
    "print('before:' + str(data['intl_plan'][0]))\n",
    "print('before:' + str(data['churned'][0]))"
   ]
  },
  {
   "cell_type": "code",
   "execution_count": 5,
   "metadata": {
    "colab": {},
    "colab_type": "code",
    "id": "tZzbhmEjPvNq"
   },
   "outputs": [],
   "source": [
    "# print(data['voice_mail_plan'])"
   ]
  },
  {
   "cell_type": "code",
   "execution_count": 6,
   "metadata": {
    "colab": {},
    "colab_type": "code",
    "id": "riko7QwoPvNt"
   },
   "outputs": [],
   "source": [
    "# remove heading and trailing whitespaces\n",
    "data['voice_mail_plan'] = data['voice_mail_plan'].map(lambda x : x.strip())\n",
    "data['intl_plan'] = data['intl_plan'].map(lambda x : x.strip())\n",
    "data['churned'] = data['churned'].map(lambda x : x.strip())"
   ]
  },
  {
   "cell_type": "code",
   "execution_count": 7,
   "metadata": {
    "colab": {
     "base_uri": "https://localhost:8080/",
     "height": 68
    },
    "colab_type": "code",
    "id": "9ENn6m5HPvNx",
    "outputId": "4b61f2a0-604b-469d-edbc-3b952fcf2df7"
   },
   "outputs": [
    {
     "name": "stdout",
     "output_type": "stream",
     "text": [
      "after:yes\n",
      "after:no\n",
      "after:False.\n"
     ]
    }
   ],
   "source": [
    "print('after:' + str(data['voice_mail_plan'][0]))\n",
    "print('after:' + str(data['intl_plan'][0]))\n",
    "print('after:' + str(data['churned'][0]))"
   ]
  },
  {
   "cell_type": "markdown",
   "metadata": {
    "colab_type": "text",
    "id": "OxsLmq3vPvN0"
   },
   "source": [
    "#### 1.3 Explore features"
   ]
  },
  {
   "cell_type": "code",
   "execution_count": 8,
   "metadata": {
    "colab": {
     "base_uri": "https://localhost:8080/",
     "height": 1000
    },
    "colab_type": "code",
    "id": "iovLOl2lPvN1",
    "outputId": "ab21b71e-768e-4eb5-e855-69a777c89832"
   },
   "outputs": [
    {
     "data": {
      "text/plain": [
       "<seaborn.axisgrid.FacetGrid at 0x7fb79e94d630>"
      ]
     },
     "execution_count": 8,
     "metadata": {
      "tags": []
     },
     "output_type": "execute_result"
    },
    {
     "data": {
      "image/png": "[encoded data removed]",
      "text/plain": [
       "<Figure size 360x360 with 1 Axes>"
      ]
     },
     "metadata": {
      "needs_background": "light",
      "tags": []
     },
     "output_type": "display_data"
    },
    {
     "data": {
      "image/png": "[encoded data removed]",
      "text/plain": [
       "<Figure size 360x360 with 1 Axes>"
      ]
     },
     "metadata": {
      "needs_background": "light",
      "tags": []
     },
     "output_type": "display_data"
    },
    {
     "data": {
      "image/png": "[encoded data removed]",
      "text/plain": [
       "<Figure size 360x360 with 1 Axes>"
      ]
     },
     "metadata": {
      "needs_background": "light",
      "tags": []
     },
     "output_type": "display_data"
    }
   ],
   "source": [
    "# plot feature values to show distribution\n",
    "%matplotlib inline\n",
    "import matplotlib.pyplot as plt\n",
    "import seaborn as sns\n",
    "\n",
    "sns.displot(data['intl_plan'])\n",
    "sns.displot(data['total_night_charge'])\n",
    "sns.displot(data['number_customer_service_calls'])"
   ]
  },
  {
   "cell_type": "code",
   "execution_count": 9,
   "metadata": {
    "colab": {
     "base_uri": "https://localhost:8080/",
     "height": 838
    },
    "colab_type": "code",
    "id": "aojrcYJ9PvN7",
    "outputId": "f2aa27c0-5708-41a5-96f4-73476dc818e3"
   },
   "outputs": [
    {
     "data": {
      "text/plain": [
       "<matplotlib.axes._subplots.AxesSubplot at 0x7fb79f1b4dd8>"
      ]
     },
     "execution_count": 9,
     "metadata": {
      "tags": []
     },
     "output_type": "execute_result"
    },
    {
     "data": {
      "image/png": "[encoded data removed]",
      "text/plain": [
       "<Figure size 1584x864 with 2 Axes>"
      ]
     },
     "metadata": {
      "needs_background": "light",
      "tags": []
     },
     "output_type": "display_data"
    }
   ],
   "source": [
    "# calculate the Pearson correlations between all continuous features\n",
    "pcorr = data[[\"account_length\", \"number_vmail_messages\", \"total_eve_calls\", \"total_day_minutes\",\n",
    "                    \"total_day_calls\", \"total_day_charge\", \"total_eve_minutes\",\n",
    "                     \"total_eve_charge\", \"total_night_minutes\",\n",
    "                    \"total_night_calls\", \"total_intl_minutes\", \"total_intl_calls\",\n",
    "                    \"total_intl_charge\"]].corr()\n",
    "# print(pcorr)\n",
    "fig, ax = plt.subplots(figsize=(22,12))\n",
    "sns.heatmap(pcorr, annot=True, fmt=\".3f\", cmap=\"coolwarm\", ax=ax)"
   ]
  },
  {
   "cell_type": "markdown",
   "metadata": {
    "colab_type": "text",
    "id": "Yn9PvHtOPvN-"
   },
   "source": [
    "### Part 2 - Feature Preprocessing"
   ]
  },
  {
   "cell_type": "code",
   "execution_count": 10,
   "metadata": {
    "colab": {
     "base_uri": "https://localhost:8080/",
     "height": 51
    },
    "colab_type": "code",
    "id": "FyF9trWAPvN_",
    "outputId": "8a7f902e-b31e-4041-c474-ba31a4e84381"
   },
   "outputs": [
    {
     "name": "stdout",
     "output_type": "stream",
     "text": [
      "0.9999926570208357\n",
      "0.00039075729962830945\n"
     ]
    }
   ],
   "source": [
    "# calculate pearson correlation between two features\n",
    "from scipy.stats import pearsonr\n",
    "# linear correlation\n",
    "print (pearsonr(data['total_intl_minutes'], data['total_intl_charge'])[0])\n",
    "# no linear correlation\n",
    "print (pearsonr(data['total_intl_minutes'], data['total_night_calls'])[0])"
   ]
  },
  {
   "cell_type": "code",
   "execution_count": 11,
   "metadata": {
    "colab": {},
    "colab_type": "code",
    "id": "pVTt4KthPvOD"
   },
   "outputs": [],
   "source": [
    "# get true Y output - ground truth\n",
    "Y = np.where(data['churned'] == 'True.', 1, 0)\n",
    "\n",
    "# drop unnecessary features\n",
    "data_train = data.drop(['state','area_code','phone_number','churned'], axis = 1)\n",
    "\n",
    "# convert categorical features into boolean values\n",
    "data_train[[\"intl_plan\",\"voice_mail_plan\"]] = data_train[[\"intl_plan\",\"voice_mail_plan\"]] == 'yes'\n",
    "X = data_train"
   ]
  },
  {
   "cell_type": "code",
   "execution_count": 12,
   "metadata": {
    "colab": {},
    "colab_type": "code",
    "id": "RYJwIQoePvOG"
   },
   "outputs": [],
   "source": [
    "#print(X_train)"
   ]
  },
  {
   "cell_type": "code",
   "execution_count": 13,
   "metadata": {
    "colab": {
     "base_uri": "https://localhost:8080/",
     "height": 34
    },
    "colab_type": "code",
    "id": "ezJdC1qGPvOK",
    "outputId": "b4c40e11-f874-4a6f-fc9d-f1f0d1101fd2"
   },
   "outputs": [
    {
     "name": "stdout",
     "output_type": "stream",
     "text": [
      "14.14%\n"
     ]
    }
   ],
   "source": [
    "# check the propotion of churned customers\n",
    "print('{}%'.format((Y.sum() / Y.shape * 100)[0]))"
   ]
  },
  {
   "cell_type": "code",
   "execution_count": 14,
   "metadata": {
    "colab": {
     "base_uri": "https://localhost:8080/",
     "height": 224
    },
    "colab_type": "code",
    "id": "rrbZDqoAPvON",
    "outputId": "d8aaba2b-2e33-476a-de98-5ec762cb8f7f"
   },
   "outputs": [
    {
     "data": {
      "text/html": [
       "<div>\n",
       "<style scoped>\n",
       "    .dataframe tbody tr th:only-of-type {\n",
       "        vertical-align: middle;\n",
       "    }\n",
       "\n",
       "    .dataframe tbody tr th {\n",
       "        vertical-align: top;\n",
       "    }\n",
       "\n",
       "    .dataframe thead th {\n",
       "        text-align: right;\n",
       "    }\n",
       "</style>\n",
       "<table border=\"1\" class=\"dataframe\">\n",
       "  <thead>\n",
       "    <tr style=\"text-align: right;\">\n",
       "      <th></th>\n",
       "      <th>account_length</th>\n",
       "      <th>intl_plan</th>\n",
       "      <th>voice_mail_plan</th>\n",
       "      <th>number_vmail_messages</th>\n",
       "      <th>total_day_minutes</th>\n",
       "      <th>total_day_calls</th>\n",
       "      <th>total_day_charge</th>\n",
       "      <th>total_eve_minutes</th>\n",
       "      <th>total_eve_calls</th>\n",
       "      <th>total_eve_charge</th>\n",
       "      <th>total_night_minutes</th>\n",
       "      <th>total_night_calls</th>\n",
       "      <th>total_night_charge</th>\n",
       "      <th>total_intl_minutes</th>\n",
       "      <th>total_intl_calls</th>\n",
       "      <th>total_intl_charge</th>\n",
       "      <th>number_customer_service_calls</th>\n",
       "    </tr>\n",
       "  </thead>\n",
       "  <tbody>\n",
       "    <tr>\n",
       "      <th>0</th>\n",
       "      <td>128</td>\n",
       "      <td>False</td>\n",
       "      <td>True</td>\n",
       "      <td>25</td>\n",
       "      <td>265.1</td>\n",
       "      <td>110</td>\n",
       "      <td>45.07</td>\n",
       "      <td>197.4</td>\n",
       "      <td>99</td>\n",
       "      <td>16.78</td>\n",
       "      <td>244.7</td>\n",
       "      <td>91</td>\n",
       "      <td>11.01</td>\n",
       "      <td>10.0</td>\n",
       "      <td>3</td>\n",
       "      <td>2.70</td>\n",
       "      <td>1</td>\n",
       "    </tr>\n",
       "    <tr>\n",
       "      <th>1</th>\n",
       "      <td>107</td>\n",
       "      <td>False</td>\n",
       "      <td>True</td>\n",
       "      <td>26</td>\n",
       "      <td>161.6</td>\n",
       "      <td>123</td>\n",
       "      <td>27.47</td>\n",
       "      <td>195.5</td>\n",
       "      <td>103</td>\n",
       "      <td>16.62</td>\n",
       "      <td>254.4</td>\n",
       "      <td>103</td>\n",
       "      <td>11.45</td>\n",
       "      <td>13.7</td>\n",
       "      <td>3</td>\n",
       "      <td>3.70</td>\n",
       "      <td>1</td>\n",
       "    </tr>\n",
       "    <tr>\n",
       "      <th>2</th>\n",
       "      <td>137</td>\n",
       "      <td>False</td>\n",
       "      <td>False</td>\n",
       "      <td>0</td>\n",
       "      <td>243.4</td>\n",
       "      <td>114</td>\n",
       "      <td>41.38</td>\n",
       "      <td>121.2</td>\n",
       "      <td>110</td>\n",
       "      <td>10.30</td>\n",
       "      <td>162.6</td>\n",
       "      <td>104</td>\n",
       "      <td>7.32</td>\n",
       "      <td>12.2</td>\n",
       "      <td>5</td>\n",
       "      <td>3.29</td>\n",
       "      <td>0</td>\n",
       "    </tr>\n",
       "    <tr>\n",
       "      <th>3</th>\n",
       "      <td>84</td>\n",
       "      <td>True</td>\n",
       "      <td>False</td>\n",
       "      <td>0</td>\n",
       "      <td>299.4</td>\n",
       "      <td>71</td>\n",
       "      <td>50.90</td>\n",
       "      <td>61.9</td>\n",
       "      <td>88</td>\n",
       "      <td>5.26</td>\n",
       "      <td>196.9</td>\n",
       "      <td>89</td>\n",
       "      <td>8.86</td>\n",
       "      <td>6.6</td>\n",
       "      <td>7</td>\n",
       "      <td>1.78</td>\n",
       "      <td>2</td>\n",
       "    </tr>\n",
       "    <tr>\n",
       "      <th>4</th>\n",
       "      <td>75</td>\n",
       "      <td>True</td>\n",
       "      <td>False</td>\n",
       "      <td>0</td>\n",
       "      <td>166.7</td>\n",
       "      <td>113</td>\n",
       "      <td>28.34</td>\n",
       "      <td>148.3</td>\n",
       "      <td>122</td>\n",
       "      <td>12.61</td>\n",
       "      <td>186.9</td>\n",
       "      <td>121</td>\n",
       "      <td>8.41</td>\n",
       "      <td>10.1</td>\n",
       "      <td>3</td>\n",
       "      <td>2.73</td>\n",
       "      <td>3</td>\n",
       "    </tr>\n",
       "  </tbody>\n",
       "</table>\n",
       "</div>"
      ],
      "text/plain": [
       "   account_length  intl_plan  voice_mail_plan  number_vmail_messages  \\\n",
       "0             128      False             True                     25   \n",
       "1             107      False             True                     26   \n",
       "2             137      False            False                      0   \n",
       "3              84       True            False                      0   \n",
       "4              75       True            False                      0   \n",
       "\n",
       "   total_day_minutes  total_day_calls  total_day_charge  total_eve_minutes  \\\n",
       "0              265.1              110             45.07              197.4   \n",
       "1              161.6              123             27.47              195.5   \n",
       "2              243.4              114             41.38              121.2   \n",
       "3              299.4               71             50.90               61.9   \n",
       "4              166.7              113             28.34              148.3   \n",
       "\n",
       "   total_eve_calls  total_eve_charge  total_night_minutes  total_night_calls  \\\n",
       "0               99             16.78                244.7                 91   \n",
       "1              103             16.62                254.4                103   \n",
       "2              110             10.30                162.6                104   \n",
       "3               88              5.26                196.9                 89   \n",
       "4              122             12.61                186.9                121   \n",
       "\n",
       "   total_night_charge  total_intl_minutes  total_intl_calls  \\\n",
       "0               11.01                10.0                 3   \n",
       "1               11.45                13.7                 3   \n",
       "2                7.32                12.2                 5   \n",
       "3                8.86                 6.6                 7   \n",
       "4                8.41                10.1                 3   \n",
       "\n",
       "   total_intl_charge  number_customer_service_calls  \n",
       "0               2.70                              1  \n",
       "1               3.70                              1  \n",
       "2               3.29                              0  \n",
       "3               1.78                              2  \n",
       "4               2.73                              3  "
      ]
     },
     "execution_count": 14,
     "metadata": {
      "tags": []
     },
     "output_type": "execute_result"
    }
   ],
   "source": [
    "X.head()"
   ]
  },
  {
   "cell_type": "code",
   "execution_count": 15,
   "metadata": {
    "colab": {
     "base_uri": "https://localhost:8080/",
     "height": 224
    },
    "colab_type": "code",
    "id": "Kdw7GJM8PvOQ",
    "outputId": "3fba7773-08b7-4533-e200-00ee0164a73b"
   },
   "outputs": [
    {
     "data": {
      "text/html": [
       "<div>\n",
       "<style scoped>\n",
       "    .dataframe tbody tr th:only-of-type {\n",
       "        vertical-align: middle;\n",
       "    }\n",
       "\n",
       "    .dataframe tbody tr th {\n",
       "        vertical-align: top;\n",
       "    }\n",
       "\n",
       "    .dataframe thead th {\n",
       "        text-align: right;\n",
       "    }\n",
       "</style>\n",
       "<table border=\"1\" class=\"dataframe\">\n",
       "  <thead>\n",
       "    <tr style=\"text-align: right;\">\n",
       "      <th></th>\n",
       "      <th>account_length</th>\n",
       "      <th>intl_plan</th>\n",
       "      <th>voice_mail_plan</th>\n",
       "      <th>number_vmail_messages</th>\n",
       "      <th>total_day_minutes</th>\n",
       "      <th>total_day_calls</th>\n",
       "      <th>total_day_charge</th>\n",
       "      <th>total_eve_minutes</th>\n",
       "      <th>total_eve_calls</th>\n",
       "      <th>total_eve_charge</th>\n",
       "      <th>total_night_minutes</th>\n",
       "      <th>total_night_calls</th>\n",
       "      <th>total_night_charge</th>\n",
       "      <th>total_intl_minutes</th>\n",
       "      <th>total_intl_calls</th>\n",
       "      <th>total_intl_charge</th>\n",
       "      <th>number_customer_service_calls</th>\n",
       "      <th>state_AK</th>\n",
       "      <th>state_AL</th>\n",
       "      <th>state_AR</th>\n",
       "      <th>state_AZ</th>\n",
       "      <th>state_CA</th>\n",
       "      <th>state_CO</th>\n",
       "      <th>state_CT</th>\n",
       "      <th>state_DC</th>\n",
       "      <th>state_DE</th>\n",
       "      <th>state_FL</th>\n",
       "      <th>state_GA</th>\n",
       "      <th>state_HI</th>\n",
       "      <th>state_IA</th>\n",
       "      <th>state_ID</th>\n",
       "      <th>state_IL</th>\n",
       "      <th>state_IN</th>\n",
       "      <th>state_KS</th>\n",
       "      <th>state_KY</th>\n",
       "      <th>state_LA</th>\n",
       "      <th>state_MA</th>\n",
       "      <th>state_MD</th>\n",
       "      <th>state_ME</th>\n",
       "      <th>state_MI</th>\n",
       "      <th>state_MN</th>\n",
       "      <th>state_MO</th>\n",
       "      <th>state_MS</th>\n",
       "      <th>state_MT</th>\n",
       "      <th>state_NC</th>\n",
       "      <th>state_ND</th>\n",
       "      <th>state_NE</th>\n",
       "      <th>state_NH</th>\n",
       "      <th>state_NJ</th>\n",
       "      <th>state_NM</th>\n",
       "      <th>state_NV</th>\n",
       "      <th>state_NY</th>\n",
       "      <th>state_OH</th>\n",
       "      <th>state_OK</th>\n",
       "      <th>state_OR</th>\n",
       "      <th>state_PA</th>\n",
       "      <th>state_RI</th>\n",
       "      <th>state_SC</th>\n",
       "      <th>state_SD</th>\n",
       "      <th>state_TN</th>\n",
       "      <th>state_TX</th>\n",
       "      <th>state_UT</th>\n",
       "      <th>state_VA</th>\n",
       "      <th>state_VT</th>\n",
       "      <th>state_WA</th>\n",
       "      <th>state_WI</th>\n",
       "      <th>state_WV</th>\n",
       "      <th>state_WY</th>\n",
       "    </tr>\n",
       "  </thead>\n",
       "  <tbody>\n",
       "    <tr>\n",
       "      <th>0</th>\n",
       "      <td>128</td>\n",
       "      <td>False</td>\n",
       "      <td>True</td>\n",
       "      <td>25</td>\n",
       "      <td>265.1</td>\n",
       "      <td>110</td>\n",
       "      <td>45.07</td>\n",
       "      <td>197.4</td>\n",
       "      <td>99</td>\n",
       "      <td>16.78</td>\n",
       "      <td>244.7</td>\n",
       "      <td>91</td>\n",
       "      <td>11.01</td>\n",
       "      <td>10.0</td>\n",
       "      <td>3</td>\n",
       "      <td>2.70</td>\n",
       "      <td>1</td>\n",
       "      <td>0</td>\n",
       "      <td>0</td>\n",
       "      <td>0</td>\n",
       "      <td>0</td>\n",
       "      <td>0</td>\n",
       "      <td>0</td>\n",
       "      <td>0</td>\n",
       "      <td>0</td>\n",
       "      <td>0</td>\n",
       "      <td>0</td>\n",
       "      <td>0</td>\n",
       "      <td>0</td>\n",
       "      <td>0</td>\n",
       "      <td>0</td>\n",
       "      <td>0</td>\n",
       "      <td>0</td>\n",
       "      <td>1</td>\n",
       "      <td>0</td>\n",
       "      <td>0</td>\n",
       "      <td>0</td>\n",
       "      <td>0</td>\n",
       "      <td>0</td>\n",
       "      <td>0</td>\n",
       "      <td>0</td>\n",
       "      <td>0</td>\n",
       "      <td>0</td>\n",
       "      <td>0</td>\n",
       "      <td>0</td>\n",
       "      <td>0</td>\n",
       "      <td>0</td>\n",
       "      <td>0</td>\n",
       "      <td>0</td>\n",
       "      <td>0</td>\n",
       "      <td>0</td>\n",
       "      <td>0</td>\n",
       "      <td>0</td>\n",
       "      <td>0</td>\n",
       "      <td>0</td>\n",
       "      <td>0</td>\n",
       "      <td>0</td>\n",
       "      <td>0</td>\n",
       "      <td>0</td>\n",
       "      <td>0</td>\n",
       "      <td>0</td>\n",
       "      <td>0</td>\n",
       "      <td>0</td>\n",
       "      <td>0</td>\n",
       "      <td>0</td>\n",
       "      <td>0</td>\n",
       "      <td>0</td>\n",
       "      <td>0</td>\n",
       "    </tr>\n",
       "    <tr>\n",
       "      <th>1</th>\n",
       "      <td>107</td>\n",
       "      <td>False</td>\n",
       "      <td>True</td>\n",
       "      <td>26</td>\n",
       "      <td>161.6</td>\n",
       "      <td>123</td>\n",
       "      <td>27.47</td>\n",
       "      <td>195.5</td>\n",
       "      <td>103</td>\n",
       "      <td>16.62</td>\n",
       "      <td>254.4</td>\n",
       "      <td>103</td>\n",
       "      <td>11.45</td>\n",
       "      <td>13.7</td>\n",
       "      <td>3</td>\n",
       "      <td>3.70</td>\n",
       "      <td>1</td>\n",
       "      <td>0</td>\n",
       "      <td>0</td>\n",
       "      <td>0</td>\n",
       "      <td>0</td>\n",
       "      <td>0</td>\n",
       "      <td>0</td>\n",
       "      <td>0</td>\n",
       "      <td>0</td>\n",
       "      <td>0</td>\n",
       "      <td>0</td>\n",
       "      <td>0</td>\n",
       "      <td>0</td>\n",
       "      <td>0</td>\n",
       "      <td>0</td>\n",
       "      <td>0</td>\n",
       "      <td>0</td>\n",
       "      <td>0</td>\n",
       "      <td>0</td>\n",
       "      <td>0</td>\n",
       "      <td>0</td>\n",
       "      <td>0</td>\n",
       "      <td>0</td>\n",
       "      <td>0</td>\n",
       "      <td>0</td>\n",
       "      <td>0</td>\n",
       "      <td>0</td>\n",
       "      <td>0</td>\n",
       "      <td>0</td>\n",
       "      <td>0</td>\n",
       "      <td>0</td>\n",
       "      <td>0</td>\n",
       "      <td>0</td>\n",
       "      <td>0</td>\n",
       "      <td>0</td>\n",
       "      <td>0</td>\n",
       "      <td>1</td>\n",
       "      <td>0</td>\n",
       "      <td>0</td>\n",
       "      <td>0</td>\n",
       "      <td>0</td>\n",
       "      <td>0</td>\n",
       "      <td>0</td>\n",
       "      <td>0</td>\n",
       "      <td>0</td>\n",
       "      <td>0</td>\n",
       "      <td>0</td>\n",
       "      <td>0</td>\n",
       "      <td>0</td>\n",
       "      <td>0</td>\n",
       "      <td>0</td>\n",
       "      <td>0</td>\n",
       "    </tr>\n",
       "    <tr>\n",
       "      <th>2</th>\n",
       "      <td>137</td>\n",
       "      <td>False</td>\n",
       "      <td>False</td>\n",
       "      <td>0</td>\n",
       "      <td>243.4</td>\n",
       "      <td>114</td>\n",
       "      <td>41.38</td>\n",
       "      <td>121.2</td>\n",
       "      <td>110</td>\n",
       "      <td>10.30</td>\n",
       "      <td>162.6</td>\n",
       "      <td>104</td>\n",
       "      <td>7.32</td>\n",
       "      <td>12.2</td>\n",
       "      <td>5</td>\n",
       "      <td>3.29</td>\n",
       "      <td>0</td>\n",
       "      <td>0</td>\n",
       "      <td>0</td>\n",
       "      <td>0</td>\n",
       "      <td>0</td>\n",
       "      <td>0</td>\n",
       "      <td>0</td>\n",
       "      <td>0</td>\n",
       "      <td>0</td>\n",
       "      <td>0</td>\n",
       "      <td>0</td>\n",
       "      <td>0</td>\n",
       "      <td>0</td>\n",
       "      <td>0</td>\n",
       "      <td>0</td>\n",
       "      <td>0</td>\n",
       "      <td>0</td>\n",
       "      <td>0</td>\n",
       "      <td>0</td>\n",
       "      <td>0</td>\n",
       "      <td>0</td>\n",
       "      <td>0</td>\n",
       "      <td>0</td>\n",
       "      <td>0</td>\n",
       "      <td>0</td>\n",
       "      <td>0</td>\n",
       "      <td>0</td>\n",
       "      <td>0</td>\n",
       "      <td>0</td>\n",
       "      <td>0</td>\n",
       "      <td>0</td>\n",
       "      <td>0</td>\n",
       "      <td>1</td>\n",
       "      <td>0</td>\n",
       "      <td>0</td>\n",
       "      <td>0</td>\n",
       "      <td>0</td>\n",
       "      <td>0</td>\n",
       "      <td>0</td>\n",
       "      <td>0</td>\n",
       "      <td>0</td>\n",
       "      <td>0</td>\n",
       "      <td>0</td>\n",
       "      <td>0</td>\n",
       "      <td>0</td>\n",
       "      <td>0</td>\n",
       "      <td>0</td>\n",
       "      <td>0</td>\n",
       "      <td>0</td>\n",
       "      <td>0</td>\n",
       "      <td>0</td>\n",
       "      <td>0</td>\n",
       "    </tr>\n",
       "    <tr>\n",
       "      <th>3</th>\n",
       "      <td>84</td>\n",
       "      <td>True</td>\n",
       "      <td>False</td>\n",
       "      <td>0</td>\n",
       "      <td>299.4</td>\n",
       "      <td>71</td>\n",
       "      <td>50.90</td>\n",
       "      <td>61.9</td>\n",
       "      <td>88</td>\n",
       "      <td>5.26</td>\n",
       "      <td>196.9</td>\n",
       "      <td>89</td>\n",
       "      <td>8.86</td>\n",
       "      <td>6.6</td>\n",
       "      <td>7</td>\n",
       "      <td>1.78</td>\n",
       "      <td>2</td>\n",
       "      <td>0</td>\n",
       "      <td>0</td>\n",
       "      <td>0</td>\n",
       "      <td>0</td>\n",
       "      <td>0</td>\n",
       "      <td>0</td>\n",
       "      <td>0</td>\n",
       "      <td>0</td>\n",
       "      <td>0</td>\n",
       "      <td>0</td>\n",
       "      <td>0</td>\n",
       "      <td>0</td>\n",
       "      <td>0</td>\n",
       "      <td>0</td>\n",
       "      <td>0</td>\n",
       "      <td>0</td>\n",
       "      <td>0</td>\n",
       "      <td>0</td>\n",
       "      <td>0</td>\n",
       "      <td>0</td>\n",
       "      <td>0</td>\n",
       "      <td>0</td>\n",
       "      <td>0</td>\n",
       "      <td>0</td>\n",
       "      <td>0</td>\n",
       "      <td>0</td>\n",
       "      <td>0</td>\n",
       "      <td>0</td>\n",
       "      <td>0</td>\n",
       "      <td>0</td>\n",
       "      <td>0</td>\n",
       "      <td>0</td>\n",
       "      <td>0</td>\n",
       "      <td>0</td>\n",
       "      <td>0</td>\n",
       "      <td>1</td>\n",
       "      <td>0</td>\n",
       "      <td>0</td>\n",
       "      <td>0</td>\n",
       "      <td>0</td>\n",
       "      <td>0</td>\n",
       "      <td>0</td>\n",
       "      <td>0</td>\n",
       "      <td>0</td>\n",
       "      <td>0</td>\n",
       "      <td>0</td>\n",
       "      <td>0</td>\n",
       "      <td>0</td>\n",
       "      <td>0</td>\n",
       "      <td>0</td>\n",
       "      <td>0</td>\n",
       "    </tr>\n",
       "    <tr>\n",
       "      <th>4</th>\n",
       "      <td>75</td>\n",
       "      <td>True</td>\n",
       "      <td>False</td>\n",
       "      <td>0</td>\n",
       "      <td>166.7</td>\n",
       "      <td>113</td>\n",
       "      <td>28.34</td>\n",
       "      <td>148.3</td>\n",
       "      <td>122</td>\n",
       "      <td>12.61</td>\n",
       "      <td>186.9</td>\n",
       "      <td>121</td>\n",
       "      <td>8.41</td>\n",
       "      <td>10.1</td>\n",
       "      <td>3</td>\n",
       "      <td>2.73</td>\n",
       "      <td>3</td>\n",
       "      <td>0</td>\n",
       "      <td>0</td>\n",
       "      <td>0</td>\n",
       "      <td>0</td>\n",
       "      <td>0</td>\n",
       "      <td>0</td>\n",
       "      <td>0</td>\n",
       "      <td>0</td>\n",
       "      <td>0</td>\n",
       "      <td>0</td>\n",
       "      <td>0</td>\n",
       "      <td>0</td>\n",
       "      <td>0</td>\n",
       "      <td>0</td>\n",
       "      <td>0</td>\n",
       "      <td>0</td>\n",
       "      <td>0</td>\n",
       "      <td>0</td>\n",
       "      <td>0</td>\n",
       "      <td>0</td>\n",
       "      <td>0</td>\n",
       "      <td>0</td>\n",
       "      <td>0</td>\n",
       "      <td>0</td>\n",
       "      <td>0</td>\n",
       "      <td>0</td>\n",
       "      <td>0</td>\n",
       "      <td>0</td>\n",
       "      <td>0</td>\n",
       "      <td>0</td>\n",
       "      <td>0</td>\n",
       "      <td>0</td>\n",
       "      <td>0</td>\n",
       "      <td>0</td>\n",
       "      <td>0</td>\n",
       "      <td>0</td>\n",
       "      <td>1</td>\n",
       "      <td>0</td>\n",
       "      <td>0</td>\n",
       "      <td>0</td>\n",
       "      <td>0</td>\n",
       "      <td>0</td>\n",
       "      <td>0</td>\n",
       "      <td>0</td>\n",
       "      <td>0</td>\n",
       "      <td>0</td>\n",
       "      <td>0</td>\n",
       "      <td>0</td>\n",
       "      <td>0</td>\n",
       "      <td>0</td>\n",
       "      <td>0</td>\n",
       "    </tr>\n",
       "  </tbody>\n",
       "</table>\n",
       "</div>"
      ],
      "text/plain": [
       "   account_length  intl_plan  voice_mail_plan  number_vmail_messages  \\\n",
       "0             128      False             True                     25   \n",
       "1             107      False             True                     26   \n",
       "2             137      False            False                      0   \n",
       "3              84       True            False                      0   \n",
       "4              75       True            False                      0   \n",
       "\n",
       "   total_day_minutes  total_day_calls  total_day_charge  total_eve_minutes  \\\n",
       "0              265.1              110             45.07              197.4   \n",
       "1              161.6              123             27.47              195.5   \n",
       "2              243.4              114             41.38              121.2   \n",
       "3              299.4               71             50.90               61.9   \n",
       "4              166.7              113             28.34              148.3   \n",
       "\n",
       "   total_eve_calls  total_eve_charge  total_night_minutes  total_night_calls  \\\n",
       "0               99             16.78                244.7                 91   \n",
       "1              103             16.62                254.4                103   \n",
       "2              110             10.30                162.6                104   \n",
       "3               88              5.26                196.9                 89   \n",
       "4              122             12.61                186.9                121   \n",
       "\n",
       "   total_night_charge  total_intl_minutes  total_intl_calls  \\\n",
       "0               11.01                10.0                 3   \n",
       "1               11.45                13.7                 3   \n",
       "2                7.32                12.2                 5   \n",
       "3                8.86                 6.6                 7   \n",
       "4                8.41                10.1                 3   \n",
       "\n",
       "   total_intl_charge  number_customer_service_calls  state_AK  state_AL  \\\n",
       "0               2.70                              1         0         0   \n",
       "1               3.70                              1         0         0   \n",
       "2               3.29                              0         0         0   \n",
       "3               1.78                              2         0         0   \n",
       "4               2.73                              3         0         0   \n",
       "\n",
       "   state_AR  state_AZ  state_CA  state_CO  state_CT  state_DC  state_DE  \\\n",
       "0         0         0         0         0         0         0         0   \n",
       "1         0         0         0         0         0         0         0   \n",
       "2         0         0         0         0         0         0         0   \n",
       "3         0         0         0         0         0         0         0   \n",
       "4         0         0         0         0         0         0         0   \n",
       "\n",
       "   state_FL  state_GA  state_HI  state_IA  state_ID  state_IL  state_IN  \\\n",
       "0         0         0         0         0         0         0         0   \n",
       "1         0         0         0         0         0         0         0   \n",
       "2         0         0         0         0         0         0         0   \n",
       "3         0         0         0         0         0         0         0   \n",
       "4         0         0         0         0         0         0         0   \n",
       "\n",
       "   state_KS  state_KY  state_LA  state_MA  state_MD  state_ME  state_MI  \\\n",
       "0         1         0         0         0         0         0         0   \n",
       "1         0         0         0         0         0         0         0   \n",
       "2         0         0         0         0         0         0         0   \n",
       "3         0         0         0         0         0         0         0   \n",
       "4         0         0         0         0         0         0         0   \n",
       "\n",
       "   state_MN  state_MO  state_MS  state_MT  state_NC  state_ND  state_NE  \\\n",
       "0         0         0         0         0         0         0         0   \n",
       "1         0         0         0         0         0         0         0   \n",
       "2         0         0         0         0         0         0         0   \n",
       "3         0         0         0         0         0         0         0   \n",
       "4         0         0         0         0         0         0         0   \n",
       "\n",
       "   state_NH  state_NJ  state_NM  state_NV  state_NY  state_OH  state_OK  \\\n",
       "0         0         0         0         0         0         0         0   \n",
       "1         0         0         0         0         0         1         0   \n",
       "2         0         1         0         0         0         0         0   \n",
       "3         0         0         0         0         0         1         0   \n",
       "4         0         0         0         0         0         0         1   \n",
       "\n",
       "   state_OR  state_PA  state_RI  state_SC  state_SD  state_TN  state_TX  \\\n",
       "0         0         0         0         0         0         0         0   \n",
       "1         0         0         0         0         0         0         0   \n",
       "2         0         0         0         0         0         0         0   \n",
       "3         0         0         0         0         0         0         0   \n",
       "4         0         0         0         0         0         0         0   \n",
       "\n",
       "   state_UT  state_VA  state_VT  state_WA  state_WI  state_WV  state_WY  \n",
       "0         0         0         0         0         0         0         0  \n",
       "1         0         0         0         0         0         0         0  \n",
       "2         0         0         0         0         0         0         0  \n",
       "3         0         0         0         0         0         0         0  \n",
       "4         0         0         0         0         0         0         0  "
      ]
     },
     "execution_count": 15,
     "metadata": {
      "tags": []
     },
     "output_type": "execute_result"
    }
   ],
   "source": [
    "# Encode and add categorical features (state)\n",
    "data_encode_add = data.drop(['area_code', 'phone_number', 'churned'], axis = 1)\n",
    "\n",
    "# convert categorical features into boolean values\n",
    "data_encode_add[['intl_plan', 'voice_mail_plan']] = data_encode_add[['intl_plan', 'voice_mail_plan']] == 'yes'\n",
    "\n",
    "# encode feature\n",
    "data_encode_add = pd.get_dummies(data_encode_add, columns=['state'])\n",
    "\n",
    "data_encode_add.head()"
   ]
  },
  {
   "cell_type": "markdown",
   "metadata": {
    "colab_type": "text",
    "id": "WPu03AcuPvOT"
   },
   "source": [
    "### Part 3 : Model Training and Evaluation\n",
    "#### 3.1 Split data"
   ]
  },
  {
   "cell_type": "code",
   "execution_count": 16,
   "metadata": {
    "colab": {
     "base_uri": "https://localhost:8080/",
     "height": 51
    },
    "colab_type": "code",
    "id": "GJvqwp6kPvOT",
    "outputId": "327bb1cb-ca0f-4f27-a714-23031e22c3e4"
   },
   "outputs": [
    {
     "name": "stdout",
     "output_type": "stream",
     "text": [
      "training data has 4000 rows and 17 columns\n",
      "testing data has 1000 rows and 17 columns\n"
     ]
    }
   ],
   "source": [
    "# train & test split\n",
    "from sklearn.model_selection import train_test_split\n",
    "\n",
    "# 25% for testing\n",
    "X_train, X_test, Y_train, Y_test = train_test_split(X, Y, test_size = 0.2)\n",
    "\n",
    "print('training data has %d rows and %d columns' % X_train.shape)\n",
    "print('testing data has %d rows and %d columns' % X_test.shape)"
   ]
  },
  {
   "cell_type": "code",
   "execution_count": 17,
   "metadata": {
    "colab": {},
    "colab_type": "code",
    "id": "wZ2B3kKLPvOW"
   },
   "outputs": [],
   "source": [
    "# data normalization\n",
    "from sklearn.preprocessing import StandardScaler\n",
    "\n",
    "scaler = StandardScaler()\n",
    "X_train = scaler.fit_transform(X_train)\n",
    "X_test = scaler.fit_transform(X_test)"
   ]
  },
  {
   "cell_type": "markdown",
   "metadata": {
    "colab_type": "text",
    "id": "kvHTVN0RPvOa"
   },
   "source": [
    "#### 3.2 Model selection"
   ]
  },
  {
   "cell_type": "code",
   "execution_count": 18,
   "metadata": {
    "colab": {},
    "colab_type": "code",
    "id": "g_IZm3wsPvOb"
   },
   "outputs": [],
   "source": [
    "# evaluate and compare the different classifiers using cross-validated ROC-AUC \n",
    "from xgboost import  XGBClassifier\n",
    "from sklearn.svm import SVC\n",
    "from sklearn.model_selection import GridSearchCV, cross_val_score, StratifiedKFold, learning_curve\n",
    "from sklearn.ensemble import RandomForestClassifier, AdaBoostClassifier, GradientBoostingClassifier\n",
    "from sklearn.neighbors import KNeighborsClassifier \n",
    "from sklearn.linear_model import LogisticRegression\n",
    "from sklearn.naive_bayes import GaussianNB\n",
    "from sklearn.tree import DecisionTreeClassifier\n"
   ]
  },
  {
   "cell_type": "code",
   "execution_count": 19,
   "metadata": {
    "colab": {
     "base_uri": "https://localhost:8080/",
     "height": 415
    },
    "colab_type": "code",
    "id": "bfO7TZ86PvOd",
    "outputId": "799a37c8-18a7-4ded-ec7f-66b0e779a540"
   },
   "outputs": [
    {
     "name": "stdout",
     "output_type": "stream",
     "text": [
      "    CV mean    CV std         Classifiers\n",
      "0  0.919193  0.024271                 SVC\n",
      "1  0.925472  0.029145        RandomForest\n",
      "2  0.877742  0.025026            AdaBoost\n",
      "3  0.926964  0.027983    GradientBoosting\n",
      "4  0.852233  0.021067         KNeighboors\n",
      "5  0.830574  0.027550  LogisticRegression\n",
      "6  0.929314  0.029023             XGBoost\n"
     ]
    },
    {
     "data": {
      "image/png": "[encoded data removed]",
      "text/plain": [
       "<Figure size 432x288 with 1 Axes>"
      ]
     },
     "metadata": {
      "needs_background": "light",
      "tags": []
     },
     "output_type": "display_data"
    }
   ],
   "source": [
    "# building a K-fold cross validation\n",
    "random_state = 55\n",
    "clfs = [SVC(random_state=random_state), \n",
    "      RandomForestClassifier(random_state=random_state),\n",
    "      AdaBoostClassifier(n_estimators=100, random_state=random_state, learning_rate=0.5),\n",
    "      GradientBoostingClassifier(random_state=random_state),\n",
    "      KNeighborsClassifier(),\n",
    "      LogisticRegression(random_state=random_state),\n",
    "      XGBClassifier(random_state=random_state)]\n",
    "\n",
    "# running a 10-fold cross validation to get accuracy for each models\n",
    "cv_means = []\n",
    "cv_std = []\n",
    "for clf in clfs:\n",
    "    cv_results = cross_val_score(clf, X_train, Y_train, scoring=\"roc_auc\", cv = 10)\n",
    "    cv_means.append(cv_results.mean())\n",
    "    cv_std.append(cv_results.std())\n",
    "    \n",
    "cv_res = pd.DataFrame({\"CV mean\":cv_means,\"CV std\": cv_std,\"Classifiers\":[\"SVC\",\"RandomForest\",\"AdaBoost\",\n",
    "\"GradientBoosting\",\"KNeighboors\",\"LogisticRegression\",\"XGBoost\"]})\n",
    "\n",
    "sns.set_palette(\"Set2\")\n",
    "graph = sns.barplot(x='CV mean', y='Classifiers', data= cv_res, orient='h')\n",
    "print(cv_res)"
   ]
  },
  {
   "cell_type": "markdown",
   "metadata": {
    "colab_type": "text",
    "id": "g9gf7RlfPvOg"
   },
   "source": [
    "'''\n",
    "Choose RandomForest, GradientBoosting, KNeighboors, LogisticRegression, and XGBoost for \n",
    "hyperparameters tunning\n",
    "'''"
   ]
  },
  {
   "cell_type": "markdown",
   "metadata": {
    "colab_type": "text",
    "id": "BysNkb4aPvOh"
   },
   "source": [
    "#### 3.3 Hyperparameter tunning with grid search"
   ]
  },
  {
   "cell_type": "code",
   "execution_count": 20,
   "metadata": {
    "colab": {},
    "colab_type": "code",
    "id": "XiMhLPJ7PvOh"
   },
   "outputs": [],
   "source": [
    "# print grid search results\n",
    "def grid_search_output(gs):\n",
    "    print('Best precision: %0.3f' % gs.best_score_)\n",
    "    print('Best parameters set: \\n', gs.best_params_)"
   ]
  },
  {
   "cell_type": "markdown",
   "metadata": {
    "colab_type": "text",
    "id": "i95PvP9jPvOk"
   },
   "source": [
    "##### Logistic Regression"
   ]
  },
  {
   "cell_type": "code",
   "execution_count": 21,
   "metadata": {
    "colab": {
     "base_uri": "https://localhost:8080/",
     "height": 68
    },
    "colab_type": "code",
    "id": "ciqu7mGRPvOk",
    "outputId": "c70b88c9-0dcf-40e9-b33b-873ec67824c3"
   },
   "outputs": [
    {
     "name": "stdout",
     "output_type": "stream",
     "text": [
      "Best precision: 0.869\n",
      "Best parameters set: \n",
      " {'C': 1, 'penalty': 'l2'}\n"
     ]
    }
   ],
   "source": [
    "# possible hyperparameter options for logistic regression:\n",
    "# regularization: L1 or L2, regularization parameter lambda c\n",
    "lr_parameters = {\n",
    "    'penalty' : ('l1', 'l2'),\n",
    "    'C' : (1, 5, 10, 15, 20)\n",
    "}\n",
    "grid_lr = GridSearchCV(LogisticRegression(), lr_parameters, cv = 10)\n",
    "grid_lr.fit(X_train, Y_train)\n",
    "# Best parameters option\n",
    "grid_search_output(grid_lr)"
   ]
  },
  {
   "cell_type": "markdown",
   "metadata": {
    "colab_type": "text",
    "id": "KE_sgid4PvOn"
   },
   "source": [
    "##### KNN"
   ]
  },
  {
   "cell_type": "code",
   "execution_count": 22,
   "metadata": {
    "colab": {
     "base_uri": "https://localhost:8080/",
     "height": 68
    },
    "colab_type": "code",
    "id": "peF7TknBPvOn",
    "outputId": "6af05af7-104c-4367-eaac-e469122e9299"
   },
   "outputs": [
    {
     "name": "stdout",
     "output_type": "stream",
     "text": [
      "Best precision: 0.902\n",
      "Best parameters set: \n",
      " {'n_neighbors': 3}\n"
     ]
    }
   ],
   "source": [
    "# find the best k value\n",
    "knn_parameter = {\n",
    "    'n_neighbors' : [3,4,6, 7,9,12]\n",
    "}\n",
    "grid_knn = GridSearchCV(KNeighborsClassifier(), knn_parameter, cv=10)\n",
    "grid_knn.fit(X_train, Y_train)\n",
    "# best k\n",
    "grid_search_output(grid_knn)"
   ]
  },
  {
   "cell_type": "markdown",
   "metadata": {
    "colab_type": "text",
    "id": "kZeFsfFEPvOq"
   },
   "source": [
    "##### Random Forest"
   ]
  },
  {
   "cell_type": "code",
   "execution_count": 23,
   "metadata": {
    "colab": {
     "base_uri": "https://localhost:8080/",
     "height": 68
    },
    "colab_type": "code",
    "id": "wSyathOhPvOr",
    "outputId": "9a0ab6aa-d197-49dc-a0e7-6b56192bd235"
   },
   "outputs": [
    {
     "name": "stdout",
     "output_type": "stream",
     "text": [
      "Best precision: 0.959\n",
      "Best parameters set: \n",
      " {'n_estimators': 50}\n"
     ]
    }
   ],
   "source": [
    "# find the best number of trees\n",
    "rf_parameter = {\n",
    "    'n_estimators' : [20, 50 ,80]\n",
    "}\n",
    "rf_grid = GridSearchCV(RandomForestClassifier(), rf_parameter, cv = 10)\n",
    "rf_grid.fit(X_train, Y_train)\n",
    "grid_search_output(rf_grid)"
   ]
  },
  {
   "cell_type": "markdown",
   "metadata": {
    "colab_type": "text",
    "id": "RopqRwBPPvOt"
   },
   "source": [
    "##### Gradient Boosting"
   ]
  },
  {
   "cell_type": "code",
   "execution_count": 24,
   "metadata": {
    "colab": {
     "base_uri": "https://localhost:8080/",
     "height": 68
    },
    "colab_type": "code",
    "id": "AVD6IefVPvOu",
    "outputId": "7acd5add-1cba-443a-ba4b-635d15ea057c"
   },
   "outputs": [
    {
     "name": "stdout",
     "output_type": "stream",
     "text": [
      "Best precision: 0.963\n",
      "Best parameters set: \n",
      " {'learning_rate': 0.2, 'loss': 'deviance', 'max_depth': 6, 'max_features': 0.5, 'min_samples_leaf': 5, 'n_estimators': 100}\n"
     ]
    }
   ],
   "source": [
    "# possible parameters for tunning\n",
    "# loss, n_estimators, learning_rate, max_depth, min_samples_leaf, max_features\n",
    "gb_parameters = {\n",
    "    'loss' : ['deviance', 'exponential'],\n",
    "    'n_estimators' : [100, 150],\n",
    "    'learning_rate' : [0.1, 0.2, 0.01],\n",
    "    'max_depth' : [3, 6],\n",
    "    'min_samples_leaf' : [5, 10, 15],\n",
    "    'max_features' : [0.2, 0.5]\n",
    "}\n",
    "gb_grid = GridSearchCV(GradientBoostingClassifier(), gb_parameters, cv = 10)\n",
    "gb_grid.fit(X_train, Y_train)\n",
    "grid_search_output(gb_grid)"
   ]
  },
  {
   "cell_type": "markdown",
   "metadata": {
    "colab_type": "text",
    "id": "7tR9ampQPvOx"
   },
   "source": [
    "##### XGBoost"
   ]
  },
  {
   "cell_type": "code",
   "execution_count": 25,
   "metadata": {
    "colab": {
     "base_uri": "https://localhost:8080/",
     "height": 68
    },
    "colab_type": "code",
    "id": "_s8hUwuSPvOy",
    "outputId": "8dbb5978-1b0c-42ec-c3ff-555e3da60087"
   },
   "outputs": [
    {
     "name": "stdout",
     "output_type": "stream",
     "text": [
      "Best precision: 0.961\n",
      "Best parameters set: \n",
      " {'learning_rate': 0.1, 'max_depth': 6, 'subsample': 0.5}\n"
     ]
    }
   ],
   "source": [
    "# xgboost tunning\n",
    "xgb_parameters = {\n",
    "    'learning_rate' : [0.01, 0.1, 0.05],\n",
    "    'max_depth' : [2, 4, 6],\n",
    "    'subsample' : [0.25, 0.5]\n",
    "}\n",
    "xgb_grid = GridSearchCV(XGBClassifier(), xgb_parameters, cv = 5)\n",
    "xgb_grid.fit(X_train, Y_train)\n",
    "grid_search_output(xgb_grid)"
   ]
  },
  {
   "cell_type": "markdown",
   "metadata": {
    "colab_type": "text",
    "id": "YDf86sEwPvO1"
   },
   "source": [
    "#### 3.4 Model Evaluation \n",
    "##### 3.4.1 Confusion Matrix (Precision, Recall, Accuracy"
   ]
  },
  {
   "cell_type": "markdown",
   "metadata": {
    "colab_type": "text",
    "id": "7m3Nt7muPvO1"
   },
   "source": [
    "Identify churned customers as positive samples\n",
    "\n",
    "True Positive: churned\n",
    "\n",
    "Precision = tp / tp + fp\n",
    "\n",
    "high precision = not many retained users were predicated as churn users\n",
    "\n",
    "Recall(sensitivity) = tp / tp + fn \n",
    "\n",
    "high recall = out of all churned customers, many of them were correctly identified"
   ]
  },
  {
   "cell_type": "code",
   "execution_count": 26,
   "metadata": {
    "colab": {},
    "colab_type": "code",
    "id": "W4656AmhPvO2"
   },
   "outputs": [],
   "source": [
    "from sklearn.metrics import confusion_matrix\n",
    "from sklearn.metrics import recall_score\n",
    "from sklearn.metrics import classification_report\n",
    "from sklearn.metrics import precision_score\n",
    "\n",
    "# calculate recall, precision and accuracy\n",
    "def cal_rpa(clf, cm):\n",
    "    tn = cm[0][0]\n",
    "    fp = cm[0][1]\n",
    "    fn = cm[1][0]\n",
    "    tp = cm[1][1]\n",
    "    accuracy  = (tp + tn) / (tp + fp + fn + tn + 0.0)\n",
    "    precision = tp / (tp + fp + 0.0)\n",
    "    recall = tp / (tp + fn + 0.0)\n",
    "    print (clf)\n",
    "    print (\"Accuracy is: %0.3f\" % accuracy)\n",
    "    print (\"precision is: %0.3f\" % precision)\n",
    "    print (\"recall is: %0.3f\" % recall)\n",
    "\n",
    "# print confusion matrix\n",
    "def draw_confusion_matrix(confusion_matrix):\n",
    "    class_values = ['Not churned', 'churned']\n",
    "    for cm in confusion_matrix:\n",
    "        clf, cm = cm[0], cm[1]\n",
    "        cal_rpa(clf, cm)\n",
    "        fig = plt.figure()\n",
    "        ax = fig.add_subplot()\n",
    "        color_ax = ax.matshow(cm, interpolation = 'nearest', cmap=plt.get_cmap('Greens'))\n",
    "        plt.title('Predicated')\n",
    "        fig.colorbar(color_ax)\n",
    "        ax.set_xticklabels([''] + class_values)\n",
    "        ax.set_yticklabels([''] + class_values)\n",
    "        plt.xlabel('Confusion Mattrix for %s' % clf)\n",
    "        plt.ylabel('Actual')\n",
    "        plt.show()"
   ]
  },
  {
   "cell_type": "code",
   "execution_count": 27,
   "metadata": {
    "colab": {
     "base_uri": "https://localhost:8080/",
     "height": 1000
    },
    "colab_type": "code",
    "id": "B2n-BvqqPvO4",
    "outputId": "4ebdb603-4d91-428c-a3d1-8a2e007384f2"
   },
   "outputs": [
    {
     "name": "stdout",
     "output_type": "stream",
     "text": [
      "RandomForest\n",
      "Accuracy is: 0.952\n",
      "precision is: 0.924\n",
      "recall is: 0.738\n"
     ]
    },
    {
     "data": {
      "image/png": "[encoded data removed]",
      "text/plain": [
       "<Figure size 432x288 with 2 Axes>"
      ]
     },
     "metadata": {
      "needs_background": "light",
      "tags": []
     },
     "output_type": "display_data"
    },
    {
     "name": "stdout",
     "output_type": "stream",
     "text": [
      "GradientBoosting\n",
      "Accuracy is: 0.951\n",
      "precision is: 0.897\n",
      "recall is: 0.758\n"
     ]
    },
    {
     "data": {
      "image/png": "[encoded data removed]",
      "text/plain": [
       "<Figure size 432x288 with 2 Axes>"
      ]
     },
     "metadata": {
      "needs_background": "light",
      "tags": []
     },
     "output_type": "display_data"
    },
    {
     "name": "stdout",
     "output_type": "stream",
     "text": [
      "KNeighboors\n",
      "Accuracy is: 0.885\n",
      "precision is: 0.758\n",
      "recall is: 0.336\n"
     ]
    },
    {
     "data": {
      "image/png": "[encoded data removed]",
      "text/plain": [
       "<Figure size 432x288 with 2 Axes>"
      ]
     },
     "metadata": {
      "needs_background": "light",
      "tags": []
     },
     "output_type": "display_data"
    },
    {
     "name": "stdout",
     "output_type": "stream",
     "text": [
      "LogisticRegression\n",
      "Accuracy is: 0.853\n",
      "precision is: 0.520\n",
      "recall is: 0.174\n"
     ]
    },
    {
     "data": {
      "image/png": "[encoded data removed]",
      "text/plain": [
       "<Figure size 432x288 with 2 Axes>"
      ]
     },
     "metadata": {
      "needs_background": "light",
      "tags": []
     },
     "output_type": "display_data"
    },
    {
     "name": "stdout",
     "output_type": "stream",
     "text": [
      "XGBoost\n",
      "Accuracy is: 0.960\n",
      "precision is: 0.950\n",
      "recall is: 0.772\n"
     ]
    },
    {
     "data": {
      "image/png": "[encoded data removed]",
      "text/plain": [
       "<Figure size 432x288 with 2 Axes>"
      ]
     },
     "metadata": {
      "needs_background": "light",
      "tags": []
     },
     "output_type": "display_data"
    }
   ],
   "source": [
    "# confusion matrix for RandomForest, GradientBoosting, KNeighboors, LogisticRegression, and XGBoost\n",
    "cms = [\n",
    "    ('RandomForest', confusion_matrix(Y_test, rf_grid.best_estimator_.predict(X_test))),\n",
    "    ('GradientBoosting', confusion_matrix(Y_test, gb_grid.best_estimator_.predict(X_test))),\n",
    "    ('KNeighboors', confusion_matrix(Y_test, grid_knn.best_estimator_.predict(X_test))),\n",
    "    ('LogisticRegression', confusion_matrix(Y_test, grid_lr.best_estimator_.predict(X_test))),\n",
    "    ('XGBoost', confusion_matrix(Y_test, xgb_grid.best_estimator_.predict(X_test))),\n",
    "]\n",
    "# cms = [\n",
    "#     ('RandomForest', confusion_matrix(Y_test, rf_grid.best_estimator_.predict(X_test))),\n",
    "#     ('KNeighboors', confusion_matrix(Y_test, grid_knn.best_estimator_.predict(X_test))),\n",
    "#     ('LogisticRegression', confusion_matrix(Y_test, grid_lr.best_estimator_.predict(X_test))),\n",
    "#     ('XGBoost', confusion_matrix(Y_test, xgb_grid.best_estimator_.predict(X_test))),\n",
    "# ]\n",
    "draw_confusion_matrix(cms)"
   ]
  },
  {
   "cell_type": "markdown",
   "metadata": {
    "colab_type": "text",
    "id": "GFrHJ9pvPvO7"
   },
   "source": [
    "##### 3.4.2 ROC_AUC"
   ]
  },
  {
   "cell_type": "code",
   "execution_count": 28,
   "metadata": {
    "colab": {
     "base_uri": "https://localhost:8080/",
     "height": 902
    },
    "colab_type": "code",
    "id": "LsMqbqwnPvO7",
    "outputId": "d6d7d5eb-5913-484a-9567-cc4f851d635e"
   },
   "outputs": [
    {
     "data": {
      "image/png": "[encoded data removed]",
      "text/plain": [
       "<Figure size 432x288 with 1 Axes>"
      ]
     },
     "metadata": {
      "needs_background": "light",
      "tags": []
     },
     "output_type": "display_data"
    },
    {
     "name": "stdout",
     "output_type": "stream",
     "text": [
      "AUC score for LR is 0.7938075221413418\n"
     ]
    },
    {
     "data": {
      "image/png": "[encoded data removed]",
      "text/plain": [
       "<Figure size 432x288 with 1 Axes>"
      ]
     },
     "metadata": {
      "needs_background": "light",
      "tags": []
     },
     "output_type": "display_data"
    },
    {
     "name": "stdout",
     "output_type": "stream",
     "text": [
      "AUC score for KNN is 0.7837128053060356\n"
     ]
    },
    {
     "data": {
      "image/png": "[encoded data removed]",
      "text/plain": [
       "<Figure size 432x288 with 1 Axes>"
      ]
     },
     "metadata": {
      "needs_background": "light",
      "tags": []
     },
     "output_type": "display_data"
    },
    {
     "name": "stdout",
     "output_type": "stream",
     "text": [
      "AUC score for XGBoost is 0.9007089961277296\n"
     ]
    }
   ],
   "source": [
    "from sklearn.metrics import roc_curve\n",
    "from sklearn.metrics import roc_auc_score\n",
    "\n",
    "def draw_roc_auc(pred, clf):\n",
    "    fpr, tpr, _ = roc_curve(Y_test, pred)\n",
    "    plt.figure(1)\n",
    "    plt.plot([0,1], [0,1], 'k--')\n",
    "    plt.plot(fpr, tpr, label = clf)\n",
    "    plt.xlabel('False Positive rate')\n",
    "    plt.ylabel('True Positive rate')\n",
    "    plt.title('ROC curve - %s' % clf)\n",
    "    plt.legend(loc='best')\n",
    "    plt.show()\n",
    "    print('AUC score for {} is {}'.format(clf, roc_auc_score(Y_test, pred)))\n",
    "\n",
    "    \n",
    "# pick XGBoost, KNN and LR for comparsion as they are the best/moderate/worst performer\n",
    "y_pred_xgb = xgb_grid.best_estimator_.predict_proba(X_test)[:,1]\n",
    "y_pred_lr = grid_lr.best_estimator_.predict_proba(X_test)[:,1]\n",
    "y_pred_knn = grid_knn.best_estimator_.predict_proba(X_test)[:,1]\n",
    "\n",
    "draw_roc_auc(y_pred_lr, 'LR')\n",
    "draw_roc_auc(y_pred_knn, 'KNN')\n",
    "draw_roc_auc(y_pred_xgb, 'XGBoost')\n"
   ]
  },
  {
   "cell_type": "markdown",
   "metadata": {
    "colab_type": "text",
    "id": "jBXnaIB9PvO-"
   },
   "source": [
    "### Part 4. Feature Selection\n",
    "#### Part 4.1 Feature selection for Logistic Regression\n",
    "'''\n",
    "By examining the correlation graph, features which are highly correlated \n",
    "are (total_day_minutes, total_day_charge), (total_eve_minutes, total_eve_charge) and (total_intl_minutes, total_intl_charge). \n",
    "Before selecting features for using, let's output their weights\n",
    "to convince our intuition\n",
    "'''"
   ]
  },
  {
   "cell_type": "code",
   "execution_count": 29,
   "metadata": {
    "colab": {
     "base_uri": "https://localhost:8080/",
     "height": 374
    },
    "colab_type": "code",
    "id": "64T09t1YPvO-",
    "outputId": "e44a51e8-5743-4beb-817c-24173d757320"
   },
   "outputs": [
    {
     "name": "stdout",
     "output_type": "stream",
     "text": [
      "[ 0.01568823  0.57140715 -0.40522936  0.          0.34977106  0.01046046\n",
      "  0.31960665  0.14592946  0.          0.15265304  0.08731145  0.\n",
      "  0.06431885  0.08558504 -0.12382329  0.1057526   0.61807965]\n",
      "LR coefficients with L1 regularization: \n",
      "number_customer_service_calls: 0.6181\n",
      "intl_plan: 0.5714\n",
      "voice_mail_plan: -0.4052\n",
      "total_day_minutes: 0.3498\n",
      "total_day_charge: 0.3196\n",
      "total_eve_charge: 0.1527\n",
      "total_eve_minutes: 0.1459\n",
      "total_intl_calls: -0.1238\n",
      "total_intl_charge: 0.1058\n",
      "total_night_minutes: 0.0873\n",
      "total_intl_minutes: 0.0856\n",
      "total_night_charge: 0.0643\n",
      "account_length: 0.0157\n",
      "total_day_calls: 0.0105\n",
      "number_vmail_messages: 0.0\n",
      "total_eve_calls: 0.0\n",
      "total_night_calls: 0.0\n"
     ]
    }
   ],
   "source": [
    "# use L1(LASSO) regularizaiton on LR and check for coefficient\n",
    "scaler = StandardScaler()\n",
    "lr_l1_x = scaler.fit_transform(X)\n",
    "lr_l1 = LogisticRegression(solver = 'saga', penalty='l1', C = 0.05)\n",
    "lr_l1.fit(lr_l1_x, Y)\n",
    "print(lr_l1.coef_[0])\n",
    "\n",
    "print('LR coefficients with L1 regularization: ')\n",
    "for k, v in sorted(zip(data_train.columns,  \n",
    "                       map(lambda x : round(x, 4), lr_l1.coef_[0])),\n",
    "                  key=lambda kv : (-abs(kv[1]), kv[0])):\n",
    "    print(k + \": \" + str(v))"
   ]
  },
  {
   "cell_type": "code",
   "execution_count": 30,
   "metadata": {
    "colab": {
     "base_uri": "https://localhost:8080/",
     "height": 374
    },
    "colab_type": "code",
    "id": "oh4_9ddMPvPB",
    "outputId": "eafd108f-391a-4a88-d8c8-66bda98a995f"
   },
   "outputs": [
    {
     "name": "stdout",
     "output_type": "stream",
     "text": [
      "[ 0.05385442  0.59306133 -0.49450361  0.05195019  0.35609257  0.04879417\n",
      "  0.35572945  0.17269978 -0.02871012  0.17281055  0.09729187 -0.03095169\n",
      "  0.09697765  0.117511   -0.16624232  0.11774349  0.64532563]\n",
      "LR coefficients with L2 regularization: \n",
      "number_customer_service_calls: 0.6453\n",
      "intl_plan: 0.5931\n",
      "voice_mail_plan: -0.4945\n",
      "total_day_minutes: 0.3561\n",
      "total_day_charge: 0.3557\n",
      "total_eve_charge: 0.1728\n",
      "total_eve_minutes: 0.1727\n",
      "total_intl_calls: -0.1662\n",
      "total_intl_charge: 0.1177\n",
      "total_intl_minutes: 0.1175\n",
      "total_night_minutes: 0.0973\n",
      "total_night_charge: 0.097\n",
      "account_length: 0.0539\n",
      "number_vmail_messages: 0.052\n",
      "total_day_calls: 0.0488\n",
      "total_night_calls: -0.031\n",
      "total_eve_calls: -0.0287\n"
     ]
    }
   ],
   "source": [
    "# use L2(ridge) regularization on LR and check for coefficient\n",
    "\n",
    "lr_l2_x = scaler.fit_transform(X)\n",
    "lr_l2 = LogisticRegression(penalty='l2', C = 0.05)\n",
    "lr_l2.fit(lr_l2_x, Y)\n",
    "print(lr_l2.coef_[0])\n",
    "\n",
    "print('LR coefficients with L2 regularization: ')\n",
    "for k, v in sorted(zip(data_train.columns,  \n",
    "                       map(lambda x : round(x, 4), lr_l2.coef_[0])),\n",
    "                  key=lambda kv : (-abs(kv[1]), kv[0])):\n",
    "    print(k + \": \" + str(v))"
   ]
  },
  {
   "cell_type": "markdown",
   "metadata": {
    "colab_type": "text",
    "id": "IU-NKvZrPvPD"
   },
   "source": [
    "#### 4.2 Random forest model - feature importance discussion"
   ]
  },
  {
   "cell_type": "code",
   "execution_count": 31,
   "metadata": {
    "colab": {
     "base_uri": "https://localhost:8080/",
     "height": 306
    },
    "colab_type": "code",
    "id": "FkEvIXjHPvPD",
    "outputId": "34e90aa2-f0ae-4983-deb3-f1a549997d19"
   },
   "outputs": [
    {
     "name": "stdout",
     "output_type": "stream",
     "text": [
      "total_day_minutes: 0.1458\n",
      "total_day_charge: 0.1415\n",
      "number_customer_service_calls: 0.1175\n",
      "intl_plan: 0.0881\n",
      "total_eve_charge: 0.0648\n",
      "total_eve_minutes: 0.0639\n",
      "total_intl_calls: 0.0567\n",
      "total_intl_charge: 0.0416\n",
      "total_night_minutes: 0.0409\n",
      "total_intl_minutes: 0.0405\n",
      "total_night_charge: 0.0394\n",
      "account_length: 0.0285\n",
      "total_day_calls: 0.0281\n",
      "total_night_calls: 0.0267\n",
      "number_vmail_messages: 0.0265\n",
      "voice_mail_plan: 0.0253\n",
      "total_eve_calls: 0.0241\n"
     ]
    }
   ],
   "source": [
    "# check feature importance of random forest for feature selection\n",
    "forest = RandomForestClassifier()\n",
    "forest.fit(X, Y)\n",
    "importances = forest.feature_importances_\n",
    "# print the feature ranking\n",
    "for k, v in sorted(zip(map(lambda x : round(x, 4), importances),\n",
    "                      X.columns), reverse = True):\n",
    "    print(v + \": \" + str(k))"
   ]
  },
  {
   "cell_type": "code",
   "execution_count": 31,
   "metadata": {
    "colab": {},
    "colab_type": "code",
    "id": "jKmI4abvPvPG"
   },
   "outputs": [],
   "source": []
  }
 ],
 "metadata": {
  "accelerator": "TPU",
  "colab": {
   "collapsed_sections": [
    "kvHTVN0RPvOa",
    "BysNkb4aPvOh",
    "YDf86sEwPvO1",
    "IU-NKvZrPvPD"
   ],
   "name": "customer churn analysis colab.ipynb",
   "provenance": [],
   "toc_visible": true
  },
  "kernelspec": {
   "display_name": "Python 3",
   "language": "python",
   "name": "python3"
  },
  "language_info": {
   "codemirror_mode": {
    "name": "ipython",
    "version": 3
   },
   "file_extension": ".py",
   "mimetype": "text/x-python",
   "name": "python",
   "nbconvert_exporter": "python",
   "pygments_lexer": "ipython3",
   "version": "3.8.5"
  }
 },
 "nbformat": 4,
 "nbformat_minor": 4
}
